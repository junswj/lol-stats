{
 "cells": [
  {
   "cell_type": "code",
   "execution_count": 1,
   "metadata": {},
   "outputs": [],
   "source": [
    "import requests\n",
    "from bs4 import BeautifulSoup\n",
    "import numpy as np\n",
    "import pandas as pd\n",
    "\n",
    "pd.set_option('display.max_rows', 500)\n",
    "pd.set_option('display.max_columns', 500)\n",
    "pd.set_option('display.width', 1000)"
   ]
  },
  {
   "cell_type": "code",
   "execution_count": null,
   "metadata": {},
   "outputs": [],
   "source": []
  },
  {
   "cell_type": "code",
   "execution_count": 2,
   "metadata": {},
   "outputs": [],
   "source": [
    "url='https://lol.gamepedia.com/Special:RunQuery/MatchHistoryGame?MHG%5Bpreload%5D=Team&MHG%5Blimit%5D=130&MHG%5Bteam%5D=SK%20Telecom%20T1&MHG%5Btextonly%5D=Yes&MHG%5Bspl%5D=yes&pfRunQueryFormName=MatchHistoryGame'"
   ]
  },
  {
   "cell_type": "code",
   "execution_count": 3,
   "metadata": {},
   "outputs": [],
   "source": [
    "r=requests.get(url)\n",
    "soup=BeautifulSoup(r.content, \"html\")"
   ]
  },
  {
   "cell_type": "code",
   "execution_count": 4,
   "metadata": {},
   "outputs": [],
   "source": [
    "body_html=soup.find(\"div\", {\"class\":\"mw-body\"})"
   ]
  },
  {
   "cell_type": "code",
   "execution_count": 5,
   "metadata": {},
   "outputs": [],
   "source": [
    "table_html=body_html.find_all(\"td\")"
   ]
  },
  {
   "cell_type": "code",
   "execution_count": 6,
   "metadata": {},
   "outputs": [],
   "source": [
    "parse_html=[i.text.strip() for i in table_html]"
   ]
  },
  {
   "cell_type": "code",
   "execution_count": 7,
   "metadata": {},
   "outputs": [],
   "source": [
    "array_skt=np.asarray(list(parse_html[:(len(parse_html)-22)])).reshape((-1,25))"
   ]
  },
  {
   "cell_type": "code",
   "execution_count": 19,
   "metadata": {},
   "outputs": [],
   "source": [
    "column_name= ['Date', 'Tournament', 'P', 'W/L', 'Side', 'Vs', 'Bans', \n",
    "              'BansVs', 'Picks', 'PicksVs', 'Players', 'Len', 'Team_G', 'Team_K', 'Team_T', 'Team_D', 'Team_B', \n",
    "              'VS_G', 'VS_K', 'VS_T', 'VS_D', 'VS_B', 'SB', 'MH', 'VOD']"
   ]
  },
  {
   "cell_type": "code",
   "execution_count": 20,
   "metadata": {},
   "outputs": [
    {
     "data": {
      "text/plain": [
       "25"
      ]
     },
     "execution_count": 20,
     "metadata": {},
     "output_type": "execute_result"
    }
   ],
   "source": [
    "len(column_name)"
   ]
  },
  {
   "cell_type": "code",
   "execution_count": 21,
   "metadata": {},
   "outputs": [],
   "source": [
    "df = pd.DataFrame(array_skt, columns=column_name)"
   ]
  },
  {
   "cell_type": "code",
   "execution_count": 22,
   "metadata": {},
   "outputs": [
    {
     "data": {
      "text/html": [
       "<div>\n",
       "<style scoped>\n",
       "    .dataframe tbody tr th:only-of-type {\n",
       "        vertical-align: middle;\n",
       "    }\n",
       "\n",
       "    .dataframe tbody tr th {\n",
       "        vertical-align: top;\n",
       "    }\n",
       "\n",
       "    .dataframe thead th {\n",
       "        text-align: right;\n",
       "    }\n",
       "</style>\n",
       "<table border=\"1\" class=\"dataframe\">\n",
       "  <thead>\n",
       "    <tr style=\"text-align: right;\">\n",
       "      <th></th>\n",
       "      <th>Date</th>\n",
       "      <th>Tournament</th>\n",
       "      <th>P</th>\n",
       "      <th>W/L</th>\n",
       "      <th>Side</th>\n",
       "      <th>Vs</th>\n",
       "      <th>Bans</th>\n",
       "      <th>BansVs</th>\n",
       "      <th>Picks</th>\n",
       "      <th>PicksVs</th>\n",
       "      <th>Players</th>\n",
       "      <th>Len</th>\n",
       "      <th>Team_G</th>\n",
       "      <th>Team_K</th>\n",
       "      <th>Team_T</th>\n",
       "      <th>Team_D</th>\n",
       "      <th>Team_B</th>\n",
       "      <th>VS_G</th>\n",
       "      <th>VS_K</th>\n",
       "      <th>VS_T</th>\n",
       "      <th>VS_D</th>\n",
       "      <th>VS_B</th>\n",
       "      <th>SB</th>\n",
       "      <th>MH</th>\n",
       "      <th>VOD</th>\n",
       "    </tr>\n",
       "  </thead>\n",
       "  <tbody>\n",
       "    <tr>\n",
       "      <th>0</th>\n",
       "      <td>2019-08-31 10:51:00</td>\n",
       "      <td>Korea,LCK 2019 Summer Playoffs</td>\n",
       "      <td>9.16</td>\n",
       "      <td>Win</td>\n",
       "      <td>Blue</td>\n",
       "      <td></td>\n",
       "      <td>Yuumi,Karma,Olaf,Elise,Karthus</td>\n",
       "      <td>Varus,Ezreal,Renekton,LeBlanc,Sylas</td>\n",
       "      <td>Akali,Trundle,Azir,Xayah,Rakan</td>\n",
       "      <td>Jayce,Sejuani,Aatrox,Kai'Sa,Volibear</td>\n",
       "      <td>Khan,Clid,Faker,Teddy,Effort</td>\n",
       "      <td>28:53</td>\n",
       "      <td>59402</td>\n",
       "      <td>21</td>\n",
       "      <td>11</td>\n",
       "      <td>3</td>\n",
       "      <td>1</td>\n",
       "      <td>44488</td>\n",
       "      <td>4</td>\n",
       "      <td>1</td>\n",
       "      <td>0</td>\n",
       "      <td>0</td>\n",
       "      <td>SB</td>\n",
       "      <td>http://matchhistory.na.leagueoflegends.com/en/...</td>\n",
       "      <td>https://youtu.be/PLMj288zd38?t=50</td>\n",
       "    </tr>\n",
       "    <tr>\n",
       "      <th>1</th>\n",
       "      <td>2019-08-31 09:54:00</td>\n",
       "      <td>Korea,LCK 2019 Summer Playoffs</td>\n",
       "      <td>9.16</td>\n",
       "      <td>Loss</td>\n",
       "      <td>Blue</td>\n",
       "      <td></td>\n",
       "      <td>Yuumi,Karma,Olaf,Kennen,Tahm Kench</td>\n",
       "      <td>LeBlanc,Varus,Sylas,Kai'Sa,Rakan</td>\n",
       "      <td>Aatrox,Sejuani,Akali,Lucian,Braum</td>\n",
       "      <td>Jayce,Elise,Renekton,Ezreal,Shen</td>\n",
       "      <td>Khan,Clid,Faker,Teddy,Effort</td>\n",
       "      <td>34:45</td>\n",
       "      <td>58058</td>\n",
       "      <td>4</td>\n",
       "      <td>1</td>\n",
       "      <td>0</td>\n",
       "      <td>0</td>\n",
       "      <td>69588</td>\n",
       "      <td>12</td>\n",
       "      <td>10</td>\n",
       "      <td>5</td>\n",
       "      <td>1</td>\n",
       "      <td>SB</td>\n",
       "      <td>http://matchhistory.na.leagueoflegends.com/en/...</td>\n",
       "      <td>https://youtu.be/vD5wtRQv4Yw?t=46</td>\n",
       "    </tr>\n",
       "    <tr>\n",
       "      <th>2</th>\n",
       "      <td>2019-08-31 08:42:00</td>\n",
       "      <td>Korea,LCK 2019 Summer Playoffs</td>\n",
       "      <td>9.16</td>\n",
       "      <td>Win</td>\n",
       "      <td>Blue</td>\n",
       "      <td></td>\n",
       "      <td>Yuumi,Karma,Olaf,Jayce,Kennen</td>\n",
       "      <td>LeBlanc,Varus,Aatrox,Skarner,Renekton</td>\n",
       "      <td>Camille,Sejuani,Akali,Ezreal,Braum</td>\n",
       "      <td>Gangplank,Elise,Sylas,Ashe,Tahm Kench</td>\n",
       "      <td>Khan,Clid,Faker,Teddy,Effort</td>\n",
       "      <td>33:15</td>\n",
       "      <td>67808</td>\n",
       "      <td>8</td>\n",
       "      <td>10</td>\n",
       "      <td>3</td>\n",
       "      <td>2</td>\n",
       "      <td>58904</td>\n",
       "      <td>2</td>\n",
       "      <td>3</td>\n",
       "      <td>2</td>\n",
       "      <td>0</td>\n",
       "      <td>SB</td>\n",
       "      <td>http://matchhistory.na.leagueoflegends.com/en/...</td>\n",
       "      <td>https://youtu.be/vqMjTR07kU4?t=156</td>\n",
       "    </tr>\n",
       "    <tr>\n",
       "      <th>3</th>\n",
       "      <td>2019-08-31 06:22:00</td>\n",
       "      <td>Korea,LCK 2019 Summer Playoffs</td>\n",
       "      <td>9.16</td>\n",
       "      <td>Win</td>\n",
       "      <td>Blue</td>\n",
       "      <td></td>\n",
       "      <td>Yuumi,Karma,Olaf,Jayce,Kennen</td>\n",
       "      <td>LeBlanc,Varus,Aatrox,Pyke,Braum</td>\n",
       "      <td>Akali,Elise,Renekton,Ezreal,Rakan</td>\n",
       "      <td>Mordekaiser,Sejuani,Sylas,Xayah,Tahm Kench</td>\n",
       "      <td>Khan,Clid,Faker,Teddy,Effort</td>\n",
       "      <td>34:02</td>\n",
       "      <td>66249</td>\n",
       "      <td>10</td>\n",
       "      <td>9</td>\n",
       "      <td>4</td>\n",
       "      <td>0</td>\n",
       "      <td>55753</td>\n",
       "      <td>0</td>\n",
       "      <td>1</td>\n",
       "      <td>0</td>\n",
       "      <td>0</td>\n",
       "      <td>SB</td>\n",
       "      <td>http://matchhistory.na.leagueoflegends.com/en/...</td>\n",
       "      <td>https://youtu.be/2qcTxK-rkbM?t=2467</td>\n",
       "    </tr>\n",
       "    <tr>\n",
       "      <th>4</th>\n",
       "      <td>2019-08-25 10:13:00</td>\n",
       "      <td>Korea,LCK 2019 Summer Playoffs</td>\n",
       "      <td>9.16</td>\n",
       "      <td>Win</td>\n",
       "      <td>Red</td>\n",
       "      <td></td>\n",
       "      <td>Akali,Yuumi,Vladimir,Karma,Jayce</td>\n",
       "      <td>Aatrox,Qiyana,Xayah,Nautilus,Kassadin</td>\n",
       "      <td>Renekton,Elise,Neeko,Kai'Sa,Pyke</td>\n",
       "      <td>Gangplank,Sylas,Corki,Varus,Tahm Kench</td>\n",
       "      <td>Khan,Clid,Faker,Teddy,Effort</td>\n",
       "      <td>27:17</td>\n",
       "      <td>60501</td>\n",
       "      <td>27</td>\n",
       "      <td>10</td>\n",
       "      <td>3</td>\n",
       "      <td>1</td>\n",
       "      <td>44072</td>\n",
       "      <td>5</td>\n",
       "      <td>0</td>\n",
       "      <td>0</td>\n",
       "      <td>0</td>\n",
       "      <td>SB</td>\n",
       "      <td>http://matchhistory.na.leagueoflegends.com/en/...</td>\n",
       "      <td>https://youtu.be/X81NbiL4GQ4?t=39</td>\n",
       "    </tr>\n",
       "  </tbody>\n",
       "</table>\n",
       "</div>"
      ],
      "text/plain": [
       "                  Date                      Tournament     P   W/L  Side Vs                                Bans                                 BansVs                               Picks                                     PicksVs                       Players    Len Team_G Team_K Team_T Team_D Team_B   VS_G VS_K VS_T VS_D VS_B  SB                                                 MH                                  VOD\n",
       "0  2019-08-31 10:51:00  Korea,LCK 2019 Summer Playoffs  9.16   Win  Blue         Yuumi,Karma,Olaf,Elise,Karthus    Varus,Ezreal,Renekton,LeBlanc,Sylas      Akali,Trundle,Azir,Xayah,Rakan        Jayce,Sejuani,Aatrox,Kai'Sa,Volibear  Khan,Clid,Faker,Teddy,Effort  28:53  59402     21     11      3      1  44488    4    1    0    0  SB  http://matchhistory.na.leagueoflegends.com/en/...    https://youtu.be/PLMj288zd38?t=50\n",
       "1  2019-08-31 09:54:00  Korea,LCK 2019 Summer Playoffs  9.16  Loss  Blue     Yuumi,Karma,Olaf,Kennen,Tahm Kench       LeBlanc,Varus,Sylas,Kai'Sa,Rakan   Aatrox,Sejuani,Akali,Lucian,Braum            Jayce,Elise,Renekton,Ezreal,Shen  Khan,Clid,Faker,Teddy,Effort  34:45  58058      4      1      0      0  69588   12   10    5    1  SB  http://matchhistory.na.leagueoflegends.com/en/...    https://youtu.be/vD5wtRQv4Yw?t=46\n",
       "2  2019-08-31 08:42:00  Korea,LCK 2019 Summer Playoffs  9.16   Win  Blue          Yuumi,Karma,Olaf,Jayce,Kennen  LeBlanc,Varus,Aatrox,Skarner,Renekton  Camille,Sejuani,Akali,Ezreal,Braum       Gangplank,Elise,Sylas,Ashe,Tahm Kench  Khan,Clid,Faker,Teddy,Effort  33:15  67808      8     10      3      2  58904    2    3    2    0  SB  http://matchhistory.na.leagueoflegends.com/en/...   https://youtu.be/vqMjTR07kU4?t=156\n",
       "3  2019-08-31 06:22:00  Korea,LCK 2019 Summer Playoffs  9.16   Win  Blue          Yuumi,Karma,Olaf,Jayce,Kennen        LeBlanc,Varus,Aatrox,Pyke,Braum   Akali,Elise,Renekton,Ezreal,Rakan  Mordekaiser,Sejuani,Sylas,Xayah,Tahm Kench  Khan,Clid,Faker,Teddy,Effort  34:02  66249     10      9      4      0  55753    0    1    0    0  SB  http://matchhistory.na.leagueoflegends.com/en/...  https://youtu.be/2qcTxK-rkbM?t=2467\n",
       "4  2019-08-25 10:13:00  Korea,LCK 2019 Summer Playoffs  9.16   Win   Red       Akali,Yuumi,Vladimir,Karma,Jayce  Aatrox,Qiyana,Xayah,Nautilus,Kassadin    Renekton,Elise,Neeko,Kai'Sa,Pyke      Gangplank,Sylas,Corki,Varus,Tahm Kench  Khan,Clid,Faker,Teddy,Effort  27:17  60501     27     10      3      1  44072    5    0    0    0  SB  http://matchhistory.na.leagueoflegends.com/en/...    https://youtu.be/X81NbiL4GQ4?t=39"
      ]
     },
     "execution_count": 22,
     "metadata": {},
     "output_type": "execute_result"
    }
   ],
   "source": [
    "df.head()"
   ]
  },
  {
   "cell_type": "code",
   "execution_count": null,
   "metadata": {},
   "outputs": [],
   "source": []
  }
 ],
 "metadata": {
  "kernelspec": {
   "display_name": "Python 3",
   "language": "python",
   "name": "python3"
  },
  "language_info": {
   "codemirror_mode": {
    "name": "ipython",
    "version": 3
   },
   "file_extension": ".py",
   "mimetype": "text/x-python",
   "name": "python",
   "nbconvert_exporter": "python",
   "pygments_lexer": "ipython3",
   "version": "3.7.3"
  }
 },
 "nbformat": 4,
 "nbformat_minor": 2
}
